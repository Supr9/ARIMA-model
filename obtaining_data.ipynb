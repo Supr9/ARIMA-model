{
 "cells": [
  {
   "cell_type": "markdown",
   "metadata": {},
   "source": [
    "# Obtaining Data sets\n",
    "\n",
    "In this notebook, the codes for obtaining datasets and the proper dataframes (for the features) is shown.\n",
    "\n",
    "### Feature Engineering\n",
    "\n",
    "\n",
    "The features that we will be using are the following:\n",
    "\n",
    "Creating a data set where we include:\n",
    "- Historical Returns of all stocks included in the index, and the index.\n",
    "- Rows: time\n",
    "- Columns: Stocks / index\n",
    "\n",
    "\n",
    "Another dataset including:\n",
    "- Spreads of the stocks and index.\n",
    "- Rows: time\n",
    "- Columns: Stocks / index"
   ]
  },
  {
   "cell_type": "code",
   "execution_count": null,
   "metadata": {},
   "outputs": [],
   "source": [
    "import yfinance as yf\n",
    "import numpy as np\n",
    "import pandas as pd\n",
    "import matplotlib.pyplot as plt\n",
    "import requests\n",
    "import datetime"
   ]
  },
  {
   "cell_type": "markdown",
   "metadata": {},
   "source": [
    "# Day to Day Trading\n",
    "\n",
    "\n",
    "In the day to day historical OHLC information we are using this in order to obtain a portfolio that takes into account the spread (cost) and find an optimal portfolio that reduces the tracking loss between the the portfolio and the index we are referring to.\n",
    "\n",
    "To begin, the Dow Jones Industrial Average will be used as an index."
   ]
  },
  {
   "cell_type": "markdown",
   "metadata": {},
   "source": [
    "We can obtain the historical daily prices day to day for 10 years using Yahoo Finance API. With this we will obtain the days included.\n",
    "\n",
    "**Dow Jones Index Data:**"
   ]
  },
  {
   "cell_type": "code",
   "execution_count": null,
   "metadata": {},
   "outputs": [],
   "source": [
    "# Day to day of Dow Jones ^DJI\n",
    "DJI = yf.Ticker('^DJI')\n",
    "\n",
    "print(DJI.info)\n",
    "\n",
    "DJI_hist = DJI.history(period = '10y')\n",
    "\n",
    "# Using a simple high and low spread\n",
    "DJI_hist['HLSpread'] = DJI_hist['High']-DJI_hist['Low']\n",
    "\n",
    "DJI_hist\n",
    "# type(DJI_hist['Date'][0])\n",
    "DJI_hist.index\n",
    "# DJI_hist['Datecol'] = DJI_hist.index\n",
    "\n",
    "# Dividends and Stocks Splits are not needed at all for an Index.\n",
    "DJI_hist = DJI_hist.drop('Dividends', axis=1)\n",
    "DJI_hist = DJI_hist.drop('Stock Splits', axis=1)\n",
    "\n",
    "\n",
    "DJI_hist\n",
    "DJI_hist.to_csv('DJI.csv')\n",
    "\n",
    "# myhist = pd.read_csv('DJI.csv', index_col = [0])\n",
    "# myhist"
   ]
  },
  {
   "cell_type": "markdown",
   "metadata": {},
   "source": [
    "Obtaining the stock data from yahoo finance and getting the return, log return, and the High Low Spread."
   ]
  },
  {
   "cell_type": "markdown",
   "metadata": {},
   "source": [
    "$$\n",
    "\n",
    "TE = sd(r_{index} - r_{portfolio})\\\\\n",
    "\n",
    "\\;\\\\\n",
    "\n",
    "r = \\text{return} = \\dfrac{Price_{t} - Price_{t-1}}{Price_{t-1}} \\;=\\; \\dfrac{Price_{t}}{Price_{t-1}} - 1\\\\\n",
    "\n",
    "\\;\\\\\n",
    "\n",
    "\\boxed{\\text{log returns} \\;=\\;    ln\\left(\\dfrac{Price_{t}}{Price_{t-1}} \\right)}\\\\\n",
    "\n",
    "\\;\\\\\n",
    "\n",
    "\n",
    "r_{portfolio} = \\sum_{i=1}^{num stocks} r_{i, \\;t} = \\sum_{i=1}^{num stocks}  \\left(\\dfrac{Price_{t} - Price_{t-1}}{Price_{t}}\\right) _{i. \\;t}\n",
    "$$"
   ]
  },
  {
   "cell_type": "code",
   "execution_count": null,
   "metadata": {},
   "outputs": [],
   "source": [
    "# Function for any sort of STOCK or index.\n",
    "def obtain_stockdata(ticker:str, period = '10y'):\n",
    "\n",
    "    try:\n",
    "\n",
    "        # Retrieving from yfinance API the historical data.\n",
    "        mystock         = yf.Ticker(ticker)\n",
    "        historical_data = mystock.history(period = '10y')\n",
    "\n",
    "        # OBTAINING: Spread ... high - low.\n",
    "        # Using a simple high and low spread since the bid and ask historical data is not allowed.\n",
    "        historical_data['HLSpread'] = historical_data['High']-historical_data['Low']\n",
    "\n",
    "        # Dividends and Stocks Splits are not needed at all for an index.\n",
    "        historical_data = historical_data.drop('Dividends', axis=1)\n",
    "        historical_data = historical_data.drop('Stock Splits', axis=1)\n",
    "\n",
    "        # OBTAINING: Return ... the return of the stock in percentage.\n",
    "        \n",
    "        close_data = pd.Series(historical_data['Close']) # must be a series data type\n",
    "\n",
    "        # calculating the percentage in return (*100). [(x_f - x_i)/x_i] * 100.\n",
    "        # Removed the *100 since we want to compare tko log return\n",
    "        historical_data['Return'] = close_data.pct_change()#*100\n",
    "\n",
    "        # log(1+x) ~ x for x->inf.\n",
    "        historical_data['LogReturn'] = np.log(close_data/close_data.shift(1))\n",
    "        # removing the first row since we dont want an NA value.\n",
    "        historical_data.drop(index=historical_data.index[0], axis=0, inplace=True)\n",
    "\n",
    "        return historical_data\n",
    "    \n",
    "    except:\n",
    "        print(\"Incorrect Stock symbol. Choose a correct one!\")\n",
    "\n",
    "# Obtaining the Dow Jones stock data\n",
    "DJI = obtain_stockdata('^DJI')\n",
    "DJI.head()\n",
    "\n",
    "\n",
    "# Saving the data to a csv\n",
    "DJI.to_csv('DJI_features.csv')"
   ]
  },
  {
   "cell_type": "markdown",
   "metadata": {},
   "source": [
    "Saving the basic Dow Jones index csv file."
   ]
  },
  {
   "cell_type": "code",
   "execution_count": null,
   "metadata": {},
   "outputs": [],
   "source": [
    "DJI = pd.read_csv('DJI_features.csv', index_col = [0])\n",
    "DJI.head()"
   ]
  },
  {
   "cell_type": "markdown",
   "metadata": {},
   "source": [
    "Since we have a function that automatically calculates the return, spread and log returns, we can use this to find these features for each of the stocks included in the index."
   ]
  },
  {
   "cell_type": "code",
   "execution_count": null,
   "metadata": {},
   "outputs": [],
   "source": [
    "# All names of the stocks included in the DOW Jones Industrial Index.\n",
    "DJ_stock_list = ['^DJI','AMZN', 'AXP', 'AMGN', 'AAPL', 'BA', 'CAT', 'CSCO', 'CVX', 'GS', 'HD',\n",
    "                 'HON', 'IBM', 'INTC', 'JNJ', 'KO', 'JPM','MCD','MMM', 'MRK', 'MSFT',\n",
    "                 'NKE', 'PG', 'TRV', 'UNH', 'CRM', 'VZ', 'V', 'WMT', 'DIS', 'DOW']\n",
    "\n",
    "# storing all the returns of all stocks into one dataframe.\n",
    "return_df = pd.DataFrame(index=DJI.index)\n",
    "\n",
    "# storing all the spreads of all stocks into one dataframe.\n",
    "spread_df = pd.DataFrame(index=DJI.index)\n",
    "\n",
    "logreturn_df = pd.DataFrame(index=DJI.index)\n",
    "\n",
    "for each in DJ_stock_list:\n",
    "\n",
    "    temp_stock_data = obtain_stockdata(each)\n",
    "    # stock_str = str(each)\n",
    "    return_df[str(each)] = temp_stock_data['Return']\n",
    "    logreturn_df[str(each)] = temp_stock_data['LogReturn']\n",
    "    spread_df[str(each)] = temp_stock_data['HLSpread']\n",
    "    print('{} done!'.format(each))"
   ]
  },
  {
   "cell_type": "markdown",
   "metadata": {},
   "source": [
    "Because information on DOW is only since 2019, it is better not to include it since we may want more data."
   ]
  },
  {
   "cell_type": "code",
   "execution_count": null,
   "metadata": {},
   "outputs": [],
   "source": [
    "# print(return_df.isna())\n",
    "# DOW began in 2019, we can remove it and not include it for the day to day since we would reduce the amount of observations...\n",
    "\n",
    "try:\n",
    "    return_df = return_df.drop('DOW', axis=1)\n",
    "    logreturn_df = logreturn_df.drop('DOW', axis=1)\n",
    "    spread_df = spread_df.drop('DOW', axis=1)\n",
    "    print('Removed DOW column correctly.')\n",
    "except:\n",
    "    print('Already Removed or did not exist.')"
   ]
  },
  {
   "cell_type": "markdown",
   "metadata": {},
   "source": [
    "Saving to a csv file:"
   ]
  },
  {
   "cell_type": "code",
   "execution_count": null,
   "metadata": {},
   "outputs": [],
   "source": [
    "# Saving each dataframe to a csv file\n",
    "\n",
    "# HighLow Spread ....\n",
    "spread_df.to_csv('spread_df.csv')\n",
    "# Return ....\n",
    "return_df.to_csv('return_df.csv')\n",
    "# Log Return ....\n",
    "logreturn_df.to_csv('logreturn_df.csv')"
   ]
  },
  {
   "cell_type": "markdown",
   "metadata": {},
   "source": [
    "Reading from a csv file:\n",
    "- We need to also include the column used as the index (csv not saved with indices but rather a new column was created as the index.)"
   ]
  },
  {
   "cell_type": "code",
   "execution_count": null,
   "metadata": {},
   "outputs": [],
   "source": [
    "print(\"\\nSpreads --------------\")\n",
    "# index_col = [0] \n",
    "spread_df = pd.read_csv('spread_df.csv', index_col = [0])\n",
    "spread_df.index = pd.to_datetime(spread_df.index)\n",
    "\n",
    "print(spread_df.describe())\n",
    "\n",
    "\n",
    "\n",
    "print(\"\\nReturns --------------\")\n",
    "# index_col = [0] \n",
    "return_df = pd.read_csv('return_df.csv', index_col = [0])\n",
    "return_df.index = pd.to_datetime(return_df.index)\n",
    "print(return_df.describe())\n",
    "\n",
    "\n",
    "\n",
    "print(\"\\nLogReturns --------------\")\n",
    "# index_col = [0]\n",
    "logreturn_df = pd.read_csv('logreturn_df.csv', index_col = [0])\n",
    "logreturn_df.index = pd.to_datetime(logreturn_df.index)\n",
    "print(logreturn_df.describe())"
   ]
  },
  {
   "cell_type": "markdown",
   "metadata": {},
   "source": [
    "### Intraday Trading data (Alpha Vantage)\n",
    "\n",
    "Intraday data can be obtained using Alpha Vantage. Note how we can obtain a JSON or csv file. If we want to change the parameters of the function then we need to do so in the url. For example, extended_hours = False is to be included in the url we obtain the data from. Also note how the data is in string format. We need to change it to a float in order to properly use it."
   ]
  },
  {
   "cell_type": "code",
   "execution_count": null,
   "metadata": {},
   "outputs": [],
   "source": [
    "def get_data(symbol:str, interval = \"5min\",extended_hours = False):\n",
    "\n",
    "    # Only use data from trading hours, not extended\n",
    "    # replace the \"demo\" apikey below with your own key from https://www.alphavantage.co/support/#api-key\n",
    "    \n",
    "    if type(symbol) == str:\n",
    "        try:\n",
    "            # Extended hours = false\n",
    "            url_str = \"https://www.alphavantage.co/query?function=TIME_SERIES_INTRADAY&symbol=\"+str(symbol)+\"&interval=\"+interval+\"&extended_hours=False\"+\"&apikey=M5CNIDBZ8YEVD8AN\"\n",
    "        except:\n",
    "            print(\"Not a correct stock symbol\")\n",
    "    else:\n",
    "        print(\"Symbol is not a string, converting to a string. Make sure it is a correct stock name!\")\n",
    "        symbol = str(symbol)\n",
    "        url_str = \"https://www.alphavantage.co/query?function=TIME_SERIES_INTRADAY&symbol=\"+str(symbol)+\"&interval=\"+interval+\"&extended_hours=False\"+\"&apikey=M5CNIDBZ8YEVD8AN\"\n",
    "\n",
    "    \n",
    "    url = str(url_str)#'https://www.alphavantage.co/query?function=TIME_SERIES_INTRADAY&symbol=IBEX&interval=5min&apikey=M5CNIDBZ8YEVD8AN'\n",
    "    r = requests.get(url)\n",
    "    data = r.json()\n",
    "    return data\n",
    "\n",
    "\n",
    "data = get_data(\"SPY\")\n",
    "try:\n",
    "    print(data['Meta Data'])\n",
    "    print(data.keys())\n",
    "    print(data['Time Series (5min)'])\n",
    "\n",
    "except:\n",
    "    print(\"Not a correct stock symbol.\")\n",
    "\n",
    "\n",
    "# values of prices are taken from a JSON file and are strings! CHANGE TO FLOATS.\n",
    "times      = [each for each in data['Time Series (5min)'].keys()]\n",
    "stock_data = [each for each in data['Time Series (5min)'].values()]\n",
    "\n",
    "## - note how they are in string format!\n",
    "open       = [float(each['1. open']) for each in stock_data] \n",
    "high       = [float(each['2. high']) for each in stock_data]\n",
    "low        = [float(each['3. low']) for each in stock_data]\n",
    "close      = [float(each['4. close']) for each in stock_data]\n",
    "volume     = [float(each['5. volume']) for each in stock_data]\n",
    "\n",
    "timestamps = pd.to_datetime(times)\n",
    "timestamps\n",
    "\n",
    "\n",
    "stock = pd.DataFrame({\n",
    "\"Date\":pd.to_datetime(times),\n",
    "\"open\":open, \n",
    "\"high\":high,  \n",
    "\"low\":low,      \n",
    "\"close\":close,    \n",
    "\"volume\":volume})\n",
    "stock.head()\n",
    "stock['spread'] = stock['high']-stock['low']\n",
    "\n",
    "plt.plot(stock['Date'], stock['close'])\n",
    "plt.show\n",
    "\n",
    "stock.head()"
   ]
  }
 ],
 "metadata": {
  "language_info": {
   "name": "python"
  }
 },
 "nbformat": 4,
 "nbformat_minor": 2
}
